{
  "nbformat": 4,
  "nbformat_minor": 0,
  "metadata": {
    "colab": {
      "provenance": []
    },
    "kernelspec": {
      "name": "python3",
      "display_name": "Python 3"
    },
    "language_info": {
      "name": "python"
    }
  },
  "cells": [
    {
      "cell_type": "markdown",
      "source": [
        "#Questão 1\n",
        "\n",
        "1) Observe o trecho de código abaixo:\n",
        "\n",
        "int INDICE = 13, SOMA = 0, K = 0;\n",
        "\n",
        "enquanto K < INDICE faça\n",
        "\n",
        "{\n",
        "\n",
        "K = K + 1;\n",
        "\n",
        "SOMA = SOMA + K;\n",
        "\n",
        "}\n",
        "\n",
        "imprimir(SOMA);\n",
        "\n",
        "\n",
        "\n",
        "Ao final do processamento, qual será o valor da variável SOMA?"
      ],
      "metadata": {
        "id": "zwBKxycf_EqF"
      }
    },
    {
      "cell_type": "code",
      "execution_count": 5,
      "metadata": {
        "colab": {
          "base_uri": "https://localhost:8080/"
        },
        "id": "Nk5J_FRF_CAi",
        "outputId": "49f10bf2-e25c-444a-93e5-51d4f9334eab"
      },
      "outputs": [
        {
          "output_type": "stream",
          "name": "stdout",
          "text": [
            "O valor da soma será: 91\n"
          ]
        }
      ],
      "source": [
        "indice = 13;\n",
        "soma = 0;\n",
        "k = 0;\n",
        "\n",
        "while k < indice:\n",
        "  k += 1;\n",
        "  soma += k;\n",
        "\n",
        "print(\"O valor da soma será:\" , soma);"
      ]
    },
    {
      "cell_type": "markdown",
      "source": [
        "#Questão 2\n",
        "\n",
        "2) Dado a sequência de Fibonacci, onde se inicia por 0 e 1 e o próximo valor sempre será a soma dos 2 valores anteriores (exemplo: 0, 1, 1, 2, 3, 5, 8, 13, 21, 34...), escreva um programa na linguagem que desejar onde, informado um número, ele calcule a sequência de Fibonacci e retorne uma mensagem avisando se o número informado pertence ou não a sequência.\n",
        "\n",
        "\n",
        "\n",
        "IMPORTANTE:\n",
        "\n",
        "Esse número pode ser informado através de qualquer entrada de sua preferência ou pode ser previamente definido no código;\n"
      ],
      "metadata": {
        "id": "ZVxiGxyB_95v"
      }
    },
    {
      "cell_type": "code",
      "source": [
        "def fibonaccisequencia(numero):\n",
        "  fibonacci = [0,1] #Cria uma lista com os dois primeiros números da sequencia fibonacci\n",
        "  while fibonacci [-1] < numero: #Enquanto o último número da lista de fibonacci for menor que o número informado\n",
        "    fibonacci.append(fibonacci[-1] + fibonacci[-2]) #Ele adiciona na lista fibonacci a soma do último elemento + o penultimo elemento\n",
        "  return fibonacci\n",
        "\n",
        "def verificaONumero(numero):\n",
        "  fibonacci = fibonaccisequencia(numero) #Após a função fibonacci, nomeamos a função para fibonacci\n",
        "  if numero in fibonacci: # Logo após verificamos se o numero informado pelo usuário está dentro da lista fibonacci gerada na outra função\n",
        "    return True\n",
        "  else:\n",
        "    return False\n",
        "\n",
        "numero = int(input(\"Informe um número inteiro: \")); #Solicita um número ao usuário\n",
        "\n",
        "if verificaONumero(numero):\n",
        "  print('O número', numero,'pertence a sequência Fibonacci');\n",
        "else:\n",
        "  print('O número', numero,'não pertence a sequência Fibonacci')"
      ],
      "metadata": {
        "colab": {
          "base_uri": "https://localhost:8080/"
        },
        "id": "NQoPRZuvADKR",
        "outputId": "34039996-46e7-4a3f-8a45-ccb90c50783a"
      },
      "execution_count": 10,
      "outputs": [
        {
          "output_type": "stream",
          "name": "stdout",
          "text": [
            "Informe um número inteiro: 13\n",
            "O número 13 pertence a sequência Fibonacci\n"
          ]
        }
      ]
    },
    {
      "cell_type": "markdown",
      "source": [
        "#Questão 3\n",
        "\n",
        "3) Descubra a lógica e complete o próximo elemento:\n",
        "\n",
        "a) 1, 3, 5, 7, ___\n",
        "\n",
        "b) 2, 4, 8, 16, 32, 64, ____\n",
        "\n",
        "c) 0, 1, 4, 9, 16, 25, 36, ____\n",
        "\n",
        "d) 4, 16, 36, 64, ____\n",
        "\n",
        "e) 1, 1, 2, 3, 5, 8, ____\n",
        "\n",
        "f) 2,10, 12, 16, 17, 18, 19, ____\n",
        "\n",
        "#Resposta\n",
        "\n",
        "A) A lógica é somar 2 ao número anterior. Logo, a sequencia seria 1,3,5,7,9\n",
        "\n",
        "B) A lógica é multiplicar 2 ao número anterior. Logo, a sequencia é 2,4,8,16,32,64,128\n",
        "\n",
        "C) A lógica desse envolve o quadrado dos números começando em zero. Logo, a sequência é 0,1,4,9,16,25,36,49\n",
        "\n",
        "D) A lógica desse é o quadrado dos número pares começando por 2. A sequência é 4,16,36,64,100\n",
        "\n",
        "E) A lógica desse é semelhante a sequencia Fibonacci. Começa com 1 e soma-se com o número anterior para gerar o próximo número. Logo, a sequencia fica 1,1,2,3,5,8,13\n",
        "\n",
        "F) Pela lógica, o próximo número seria o 20, já que não há uma sequencia clara, mas a partir do número 16, há um incremento de 1. Logo, a sequencia é 2,10,12,16,17,18,19,20\n",
        "\n"
      ],
      "metadata": {
        "id": "x2G86Id4EEvl"
      }
    },
    {
      "cell_type": "markdown",
      "source": [
        "#Questão 4\n",
        "\n",
        "4) Você está em uma sala com três interruptores, cada um conectado a uma lâmpada em uma sala diferente. Você não pode ver as lâmpadas da sala em que está, mas pode ligar e desligar os interruptores quantas vezes quiser. Seu objetivo é descobrir qual interruptor controla qual lâmpada.\n",
        "\n",
        "Como você faria para descobrir, usando apenas duas idas até uma das salas das lâmpadas, qual interruptor controla cada lâmpada?\n",
        "\n",
        "Resposta:\n",
        "\n",
        "Primeiro, eu acenderia o primeiro interruptor e o deixaria por um tempo aceso e o desligaria. Depois ligaria o segundo e o deixaria ativo.\n",
        "\n",
        "Iria até a sala e verificaria qual luz está acesa. Além disso, iria conferir a temperatura das outras duas lampadas apagas. A que estivesse quente, significaria que está conectada com o primeiro interruptor, enquanto a que estivesse fria, por consequência, estaria fria e liga ao terceiro interruptor não ativado.\n"
      ],
      "metadata": {
        "id": "zaKaBFwxG7kl"
      }
    },
    {
      "cell_type": "markdown",
      "source": [
        "#Questão 5\n",
        "\n",
        "5) Escreva um programa que inverta os caracteres de um string."
      ],
      "metadata": {
        "id": "YqRcFqqAIng9"
      }
    },
    {
      "cell_type": "code",
      "source": [
        "palavra = \"banana\"[::-1];\n",
        "\n",
        "print(palavra);\n"
      ],
      "metadata": {
        "colab": {
          "base_uri": "https://localhost:8080/"
        },
        "id": "a5Y_WTyxH8aQ",
        "outputId": "a72dfa5b-efd9-4fc7-8bb7-828f66ac9341"
      },
      "execution_count": 11,
      "outputs": [
        {
          "output_type": "stream",
          "name": "stdout",
          "text": [
            "ananab\n"
          ]
        }
      ]
    }
  ]
}